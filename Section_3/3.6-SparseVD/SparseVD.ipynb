{
 "cells": [
  {
   "cell_type": "markdown",
   "metadata": {
    "collapsed": false
   },
   "source": [
    "# Practical assignment on Sparse variational dropout\n",
    "Author of the assignment: Arsenii Ashukha, author of the tutorial: Nadezhda Chirkova\n",
    "\n",
    "Paper: Variational Dropout Sparsifies Deep Neural Networks https://arxiv.org/abs/1701.05369\n"
   ]
  },
  {
   "cell_type": "markdown",
   "metadata": {
    "collapsed": false
   },
   "source": [
    "In this task, we will train SparseVD model for a simple fully-connected network on a MNIST dataset. We will start with a short reminder about training neural networks in PyTorch and then implement necessary functions for SparseVD and incorporate them into model training."
   ]
  },
  {
   "cell_type": "markdown",
   "metadata": {
    "collapsed": false
   },
   "source": [
    "## Training fully-connected network in PyTorch"
   ]
  },
  {
   "cell_type": "code",
   "execution_count": 1,
   "metadata": {
    "colab": {
     "base_uri": "https://localhost:8080/",
     "height": 69,
     "resources": {
      "http://localhost:8080/nbextensions/google.colab/files.js": {
       "data": "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",
       "headers": [
        [
         "content-type",
         "application/javascript"
        ]
       ],
       "ok": true,
       "status": 200,
       "status_text": ""
      }
     }
    },
    "colab_type": "code",
    "collapsed": false,
    "id": "v2hTKqOQwTkB",
    "outputId": "9f9f542b-8c50-4969-b98c-996556c46317"
   },
   "outputs": [
   ],
   "source": [
    "import os\n",
    "import sys\n",
    "sys.path.append(f\"{os.getcwd()}/../../src\")\n",
    "from logger import Logger"
   ]
  },
  {
   "cell_type": "code",
   "execution_count": 2,
   "metadata": {
    "colab": {
    },
    "colab_type": "code",
    "collapsed": false,
    "id": "ICMEDWnov8HW"
   },
   "outputs": [
   ],
   "source": [
    "import torch\n",
    "import numpy as np\n",
    "\n",
    "import torch.nn as nn\n",
    "import torch.optim as optim\n",
    "import torch.nn.functional as F\n",
    "\n",
    "from logger import Logger\n",
    "from torch.nn import Parameter\n",
    "from torchvision import datasets, transforms"
   ]
  },
  {
   "cell_type": "markdown",
   "metadata": {
    "collapsed": false
   },
   "source": [
    "Load a dataset:"
   ]
  },
  {
   "cell_type": "code",
   "execution_count": 3,
   "metadata": {
    "colab": {
    },
    "colab_type": "code",
    "collapsed": false,
    "id": "3fi-O-SFv8Hc"
   },
   "outputs": [
   ],
   "source": [
    "batch_size = 100\n",
    "# define data preprocessing\n",
    "tranform = transforms.Compose([transforms.ToTensor(), \n",
    "                               transforms.Normalize((0.1307,), (0.3081,))])\n",
    "# load train and test datasets and wrap them into loaders (batch generators)\n",
    "train_loader = torch.utils.data.DataLoader(\n",
    "    datasets.MNIST('../../data', train=True, download=True,\n",
    "    transform=tranform), batch_size=batch_size, shuffle=True)\n",
    "test_loader = torch.utils.data.DataLoader(\n",
    "    datasets.MNIST('../../data', train=False, download=True,\n",
    "    transform=tranform), batch_size=batch_size, shuffle=True)"
   ]
  },
  {
   "cell_type": "markdown",
   "metadata": {
    "collapsed": false
   },
   "source": [
    "Define a network:"
   ]
  },
  {
   "cell_type": "code",
   "execution_count": 4,
   "metadata": {
    "collapsed": false
   },
   "outputs": [
   ],
   "source": [
    "class Net(nn.Module):\n",
    "    def __init__(self,):\n",
    "        # components of the model\n",
    "        super(Net, self).__init__()\n",
    "        self.fc1 = nn.Linear(28*28, 300)\n",
    "        self.fc2 = nn.Linear(300,  10)\n",
    "\n",
    "    def forward(self, x):\n",
    "        # how to perform forward pass\n",
    "        x = F.relu(self.fc1(x))\n",
    "        x = F.log_softmax(self.fc2(x), dim=1)\n",
    "        return x"
   ]
  },
  {
   "cell_type": "code",
   "execution_count": 5,
   "metadata": {
    "collapsed": false
   },
   "outputs": [
    {
     "name": "stdout",
     "output_type": "stream",
     "text": [
      "Selected cuda:2\n"
     ]
    }
   ],
   "source": [
    "def get_free_gpu():\n",
    "    from pynvml import nvmlInit, nvmlDeviceGetHandleByIndex, nvmlDeviceGetMemoryInfo, nvmlDeviceGetCount\n",
    "    nvmlInit()\n",
    "\n",
    "    return np.argmax([\n",
    "        nvmlDeviceGetMemoryInfo(nvmlDeviceGetHandleByIndex(i)).free\n",
    "        for i in range(nvmlDeviceGetCount())\n",
    "    ])\n",
    "\n",
    "if torch.cuda.is_available():\n",
    "    cuda_id = get_free_gpu()\n",
    "    device = 'cuda:%d' % (get_free_gpu(), )\n",
    "    print('Selected %s' % (device, ))\n",
    "else:\n",
    "    device = 'cpu'\n",
    "    print('WARNING: using cpu!')\n",
    "\n",
    "### please, don't remove the following line\n",
    "x = torch.tensor([1], dtype=torch.float32).to(device)"
   ]
  },
  {
   "cell_type": "code",
   "execution_count": 6,
   "metadata": {
    "collapsed": false
   },
   "outputs": [
   ],
   "source": [
    "# make instance of the Net\n",
    "model = Net().to(device)"
   ]
  },
  {
   "cell_type": "markdown",
   "metadata": {
    "collapsed": false
   },
   "source": [
    "Define loss:"
   ]
  },
  {
   "cell_type": "code",
   "execution_count": 7,
   "metadata": {
    "collapsed": false
   },
   "outputs": [
   ],
   "source": [
    "lossfun = F.cross_entropy"
   ]
  },
  {
   "cell_type": "markdown",
   "metadata": {
    "collapsed": false
   },
   "source": [
    "Define optimizer:"
   ]
  },
  {
   "cell_type": "code",
   "execution_count": 8,
   "metadata": {
    "collapsed": false
   },
   "outputs": [
   ],
   "source": [
    "optimizer = optim.Adam(model.parameters(), lr=1e-3)"
   ]
  },
  {
   "cell_type": "markdown",
   "metadata": {
    "collapsed": false
   },
   "source": [
    "Create logger instance:"
   ]
  },
  {
   "cell_type": "code",
   "execution_count": 9,
   "metadata": {
    "collapsed": false
   },
   "outputs": [
   ],
   "source": [
    "fmt = {'tr_los': '3.1e', 'te_loss': '3.1e'}\n",
    "logger = Logger('fc_net', fmt=fmt)"
   ]
  },
  {
   "cell_type": "markdown",
   "metadata": {
    "collapsed": false
   },
   "source": [
    "Define device and training procedure:"
   ]
  },
  {
   "cell_type": "code",
   "execution_count": 26,
   "metadata": {
    "collapsed": false
   },
   "outputs": [
   ],
   "source": [
    "def train(train_loader, test_loader, model, lossfun, logger, device,\n",
    "          optimizer, scheduler=None, epochs = 100, sparse=False):\n",
    "    # we will need it for sparsification\n",
    "    if sparse:\n",
    "        kl_weight = 0.02\n",
    "\n",
    "    for epoch in range(1, epochs + 1):\n",
    "        # we will need it for sparsification\n",
    "        if sparse:\n",
    "            kl_weight = min(kl_weight+0.02, 1)\n",
    "            logger.add_scalar(epoch, 'kl', kl_weight)\n",
    "            lossfun.kl_weight = kl_weight\n",
    "\n",
    "        ### iterate over training batches, perform forward and backward pass and count metrics\n",
    "        model.train()\n",
    "        train_loss, train_acc = 0, 0 \n",
    "        for batch_idx, (data, target) in enumerate(train_loader):\n",
    "            data, target = data.to(device), target.to(device)\n",
    "            data = data.view(-1, 28*28)\n",
    "            optimizer.zero_grad()\n",
    "\n",
    "            output = model(data)\n",
    "            pred = output.data.max(1)[1]\n",
    "            loss = lossfun(output, target)\n",
    "            loss.backward()\n",
    "            optimizer.step()\n",
    "\n",
    "            train_loss += loss\n",
    "            train_acc += np.sum(pred.cpu().numpy() == target.data.cpu().numpy())\n",
    "\n",
    "        if scheduler is not None:\n",
    "            scheduler.step()\n",
    "            logger.add_scalar(epoch, 'lr', scheduler.get_last_lr()[0])\n",
    "\n",
    "        logger.add_scalar(epoch, 'tr_los', train_loss / len(train_loader.dataset))\n",
    "        logger.add_scalar(epoch, 'tr_acc', train_acc / len(train_loader.dataset) * 100)\n",
    "\n",
    "        ### iterate over testing batches, perform forward pass and count metrics\n",
    "        model.eval()\n",
    "        test_loss, test_acc = 0, 0\n",
    "        for batch_idx, (data, target) in enumerate(test_loader):\n",
    "            data, target = data.to(device), target.to(device)\n",
    "            data = data.view(-1, 28*28)\n",
    "            output = model(data)\n",
    "            test_loss += float(lossfun(output, target))\n",
    "            pred = output.data.max(1)[1] \n",
    "            test_acc += np.sum(pred.cpu().numpy() == target.data.cpu().numpy())\n",
    "\n",
    "        logger.add_scalar(epoch, 'te_loss', test_loss / len(test_loader.dataset))\n",
    "        logger.add_scalar(epoch, 'te_acc', test_acc / len(test_loader.dataset) * 100)\n",
    "\n",
    "        if sparse:\n",
    "            for i, c in enumerate(model.children()):\n",
    "                if hasattr(c, 'kl_reg'):\n",
    "                    logger.add_scalar(epoch, 'sp_%s' % i, (c.log_alpha.data.cpu().numpy() > model.threshold).mean())\n",
    "\n",
    "        logger.iter_info()"
   ]
  },
  {
   "cell_type": "code",
   "execution_count": 11,
   "metadata": {
    "collapsed": false
   },
   "outputs": [
    {
     "name": "stdout",
     "output_type": "stream",
     "text": [
      "  epoch    tr_los    tr_acc    te_loss    te_acc\n",
      "-------  --------  --------  ---------  --------\n",
      "      1   2.4e-03      92.8    1.4e-03      95.9\n"
     ]
    },
    {
     "name": "stdout",
     "output_type": "stream",
     "text": [
      "      2   9.9e-04      97.0    9.0e-04      97.3\n"
     ]
    },
    {
     "name": "stdout",
     "output_type": "stream",
     "text": [
      "      3   6.4e-04      98.0    8.8e-04      97.2\n"
     ]
    },
    {
     "name": "stdout",
     "output_type": "stream",
     "text": [
      "      4   4.9e-04      98.5    8.0e-04      97.5\n"
     ]
    },
    {
     "name": "stdout",
     "output_type": "stream",
     "text": [
      "      5   3.7e-04      98.8    7.7e-04      97.7\n"
     ]
    },
    {
     "name": "stdout",
     "output_type": "stream",
     "text": [
      "      6   2.8e-04      99.1    7.1e-04      97.9\n"
     ]
    },
    {
     "name": "stdout",
     "output_type": "stream",
     "text": [
      "      7   2.2e-04      99.3    7.7e-04      97.8\n"
     ]
    },
    {
     "name": "stdout",
     "output_type": "stream",
     "text": [
      "      8   1.8e-04      99.4    7.2e-04      98.1\n"
     ]
    },
    {
     "name": "stdout",
     "output_type": "stream",
     "text": [
      "      9   1.6e-04      99.5    8.9e-04      97.6\n"
     ]
    },
    {
     "name": "stdout",
     "output_type": "stream",
     "text": [
      "     10   1.3e-04      99.6    8.4e-04      98.0\n"
     ]
    },
    {
     "name": "stdout",
     "output_type": "stream",
     "text": [
      "CPU times: user 2min 23s, sys: 610 ms, total: 2min 24s\n",
      "Wall time: 2min 23s\n"
     ]
    }
   ],
   "source": [
    "%%time\n",
    "train(train_loader, test_loader, model, lossfun, logger, device,\n",
    "          optimizer, scheduler=None, epochs = 10, sparse=False)"
   ]
  },
  {
   "cell_type": "markdown",
   "metadata": {
    "collapsed": false
   },
   "source": [
    "## Pytorch cheatsheet"
   ]
  },
  {
   "cell_type": "markdown",
   "metadata": {
    "collapsed": false
   },
   "source": [
    "* Main entity in pytorch is a tensor. It can be stored either on cpu or gpu\n",
    "* Use x.cpu() and x.gpu() to switch between devices\n",
    "* Type convertation work in the same way, for example x.float()\n",
    "* Get shape: x.shape, change shape: x.reshape(...)\n",
    "* To create a new empty tensor on the same device as x and with the same shape use .new: y = x.new(x.shape)\n",
    "* Matrix multiplication: A.dot(B)\n",
    "* Element-wise operations: +, -, *, /, torch.sqrt, torch.abs, torch.exp, torch.log, < , >\n",
    "* Fill tensor x with some values: x.fill\\_(5), x.zero\\_(), x.ones\\_(), x.normal\\_()\n",
    "* Clip tensor x so that values are between A and B: torch.clamp(x, A, B)\n",
    "* If you want some tensor to be trained, wrap it in nn.Parameter: p = nn.Parameter(x). You can access tensor using p.data"
   ]
  },
  {
   "cell_type": "markdown",
   "metadata": {
    "colab_type": "text",
    "collapsed": false,
    "id": "etUt8t6gv8HK"
   },
   "source": [
    "## Sparse Variational Dropout"
   ]
  },
  {
   "cell_type": "markdown",
   "metadata": {
    "colab_type": "text",
    "collapsed": false,
    "id": "ARGe2QLxgZPd"
   },
   "source": [
    "![image with formulas 1](https://github.com/nadiinchi/BayesianSparsificationTutorial/raw/master/images/slide1rt.png)\n",
    "![image with formulas 2](https://github.com/nadiinchi/BayesianSparsificationTutorial/raw/master/images/slide2rt.png)\n",
    "\n"
   ]
  },
  {
   "cell_type": "markdown",
   "metadata": {
    "collapsed": false
   },
   "source": [
    "## Implementation of SparseVD"
   ]
  },
  {
   "cell_type": "markdown",
   "metadata": {
    "collapsed": false
   },
   "source": [
    "To implement SparseVD, we need to modify two items:\n",
    "* fully-connected layer\n",
    "* loss"
   ]
  },
  {
   "cell_type": "markdown",
   "metadata": {
    "collapsed": false
   },
   "source": [
    "You need to implement LinearSVDO layer that is inserted into the Net instead of nn.Linear:"
   ]
  },
  {
   "cell_type": "code",
   "execution_count": 12,
   "metadata": {
    "colab": {
    },
    "colab_type": "code",
    "collapsed": false,
    "id": "7QBxYnoAmzuL"
   },
   "outputs": [
   ],
   "source": [
    "class NetSVDO(nn.Module):\n",
    "    def __init__(self, threshold):\n",
    "        super(NetSVDO, self).__init__()\n",
    "        self.fc1 = LinearSVDO(28*28, 300, threshold) ### instead of nn.Linear\n",
    "        self.fc2 = LinearSVDO(300,  10, threshold) ### instead of nn.Linear\n",
    "        self.threshold = threshold\n",
    "\n",
    "    def forward(self, x):\n",
    "        x = F.relu(self.fc1(x))\n",
    "        x = F.log_softmax(self.fc2(x), dim=1)\n",
    "        return x"
   ]
  },
  {
   "cell_type": "markdown",
   "metadata": {
    "collapsed": false
   },
   "source": [
    "Implement the layer: initialize parameters (mean values and variances of the weights), perform a forward pass, compute the regularizer (KL-divergence). On the forward pass, sample weights during training, and use mean values of the weights during testing. To sample weights, use reparametrization trick."
   ]
  },
  {
   "cell_type": "code",
   "execution_count": 30,
   "metadata": {
    "colab": {
     "base_uri": "https://localhost:8080/",
     "height": 129
    },
    "colab_type": "code",
    "collapsed": false,
    "id": "KcEIF5_kv8HY",
    "nbgrader": {
     "cell_type": "code",
     "checksum": "db00f7bf4c9f60206d5db7d9f1faf88d",
     "grade": false,
     "grade_id": "cell-a6815242d99d71b6",
     "locked": false,
     "schema_version": 3,
     "solution": true,
     "task": false
    },
    "outputId": "61dfa05d-3131-4744-dfd6-0f9c92ce806d"
   },
   "outputs": [
   ],
   "source": [
    "class LinearSVDO(nn.Module):\n",
    "    def __init__(self, in_features, out_features, threshold, bias=True):\n",
    "        super(LinearSVDO, self).__init__()\n",
    "        self.in_features = in_features\n",
    "        self.out_features = out_features\n",
    "        self.threshold = threshold\n",
    "\n",
    "        self.mu = Parameter(torch.Tensor(out_features, in_features))\n",
    "        # Create a Parameter to store log sigma\n",
    "        self.log_sigma = Parameter(torch.Tensor(out_features, in_features))\n",
    "        self.bias = Parameter(torch.Tensor(1, out_features))\n",
    "\n",
    "        self.reset_parameters()\n",
    "\n",
    "    def reset_parameters(self):\n",
    "        self.bias.data.zero_()\n",
    "        self.mu.data.normal_(0, 0.02)\n",
    "        self.log_sigma.data.fill_(-5)\n",
    "\n",
    "    def forward(self, x):\n",
    "        # On the training stage, we sample weights\n",
    "        # On the testing stage, we zero out weights and perform forward pass with mean weights\n",
    "        if self.training:\n",
    "            ########         If training        ##########\n",
    "            # sample weights from normal distribution using reparametrization trick\n",
    "            # see slide above for details\n",
    "            # needed functions and attributes: tensor.new(<shape>), tensor.shape, tensor.normal_(), torch.exp\n",
    "            epsilon = self.mu.new(self.mu.shape).normal_()\n",
    "            W = self.mu + epsilon * torch.exp(self.log_sigma)\n",
    "            return F.linear(x, W) + self.bias\n",
    "\n",
    "        else:\n",
    "            ########         If not training        ##########\n",
    "            # Eval log alpha as a function(log sigma, mu)\n",
    "            # log alpha = 2 log_sigma - 2 log (|mu|)\n",
    "            # Needed functions: torch.log, torch.abs\n",
    "            # Do not forget to add 1e-15 before log for numerical stability\n",
    "            self.log_alpha = 2*self.log_sigma - 2*torch.log(torch.abs(self.mu)+1e-15)\n",
    "\n",
    "            # Clip log alpha to be in [-10, 10] for numerical stability \n",
    "            self.log_alpha = torch.clamp(self.log_alpha, -10, 10)\n",
    "\n",
    "            # Prune out redundant wights (weights with log alpha > self.threshold)\n",
    "            # Needed functions and operations: tensor < tensor, tensor.float()\n",
    "            W = (self.log_alpha < self.threshold).float() * self.mu\n",
    "\n",
    "            return F.linear(x, W) + self.bias\n",
    "\n",
    "    def kl_reg(self):\n",
    "        ########  Eval Approximation of KL Divergence    ##########\n",
    "        # Copy your code for computing self.log_alpha:\n",
    "        self.log_alpha = 2*self.log_sigma - 2*torch.log(torch.abs(self.mu)+1e-15)\n",
    "\n",
    "        # Clip log alpha to be in [-10, 10] for numerical stability \n",
    "        self.log_alpha = torch.clamp(self.log_alpha, -10, 10)\n",
    "\n",
    "        # Define constants\n",
    "        k1, k2, k3 = self.mu.data.new_tensor(1).fill_(0.63576), \\\n",
    "                     self.mu.data.new_tensor(1).fill_(1.8732), \\\n",
    "                     self.mu.data.new_tensor(1).fill_(1.48695)\n",
    "\n",
    "        # Compute KL as a function(log alpha) and sum KL over all weights\n",
    "        # KL = - k1 * sigmoid(k2 + k3 * log alpha) + 0.5 log1p(exp(-log alpha))\n",
    "        # We alreade computed self.log_alpha in forward method\n",
    "        # Needed functions and operations: torch.log1p, torch.sigmoid, torch.exp\n",
    "        KL = (- k1 * torch.sigmoid(k2 + k3 * self.log_alpha) + 0.5 * torch.log1p(torch.exp(-self.log_alpha))).sum()\n",
    "        return KL"
   ]
  },
  {
   "cell_type": "code",
   "execution_count": 31,
   "metadata": {
    "collapsed": false
   },
   "outputs": [
   ],
   "source": [
    "# make an instance of the Net\n",
    "model = NetSVDO(threshold=3).to(device)"
   ]
  },
  {
   "cell_type": "markdown",
   "metadata": {
    "collapsed": false
   },
   "source": [
    "Implement ELBO (loss):"
   ]
  },
  {
   "cell_type": "code",
   "execution_count": 32,
   "metadata": {
    "colab": {
    },
    "colab_type": "code",
    "collapsed": false,
    "id": "4oGOpuEsv8He"
   },
   "outputs": [
   ],
   "source": [
    "# Define a new Loss Function -- ELBO\n",
    "class ELBOLoss(nn.Module):\n",
    "    def __init__(self, net, train_size):\n",
    "        super(ELBOLoss, self).__init__()\n",
    "        self.train_size = train_size\n",
    "        self.net = net\n",
    "        self.kl_weight = 1.0\n",
    "\n",
    "    def forward(self, input, target):\n",
    "        assert not target.requires_grad\n",
    "        kl = 0\n",
    "        for module in self.net.children():\n",
    "            if hasattr(module, 'kl_reg'):\n",
    "                kl = kl + module.kl_reg()\n",
    "        # Estimate ELBO\n",
    "        ELBO = self.train_size*F.cross_entropy(input, target)  \\\n",
    "                                            + self.kl_weight * kl\n",
    "        return ELBO"
   ]
  },
  {
   "cell_type": "code",
   "execution_count": 33,
   "metadata": {
    "collapsed": false
   },
   "outputs": [
   ],
   "source": [
    "elboloss = ELBOLoss(model, len(train_loader.dataset)).to(device)"
   ]
  },
  {
   "cell_type": "markdown",
   "metadata": {
    "collapsed": false
   },
   "source": [
    "## Training SparseVD model"
   ]
  },
  {
   "cell_type": "markdown",
   "metadata": {
    "collapsed": false
   },
   "source": [
    "Define optimizer for a new model and create a new logger:"
   ]
  },
  {
   "cell_type": "code",
   "execution_count": 34,
   "metadata": {
    "collapsed": false
   },
   "outputs": [
   ],
   "source": [
    "optimizer = optim.Adam(model.parameters(), lr=1e-3)\n",
    "scheduler = torch.optim.lr_scheduler.MultiStepLR(optimizer, milestones=[50,60,70,80], gamma=0.2)\n",
    "fmt = {'tr_los': '3.1e', 'te_loss': '3.1e', 'sp_0': '.3f', 'sp_1': '.3f', 'lr': '3.1e', 'kl': '.2f'}\n",
    "logger = Logger('sparse_vd', fmt=fmt)"
   ]
  },
  {
   "cell_type": "markdown",
   "metadata": {
    "collapsed": false
   },
   "source": [
    "Train SparseVD model:"
   ]
  },
  {
   "cell_type": "code",
   "execution_count": 36,
   "metadata": {
    "collapsed": false
   },
   "outputs": [
    {
     "name": "stdout",
     "output_type": "stream",
     "text": [
      "      1  0.04  1.0e-03  -1.1e+01      98.4   -2.6e+00      98.1   0.523   0.146\n"
     ]
    },
    {
     "name": "stdout",
     "output_type": "stream",
     "text": [
      "      2  0.06  1.0e-03  -3.8e+01      98.7   -2.3e+01      98.1   0.577   0.178\n"
     ]
    },
    {
     "name": "stdout",
     "output_type": "stream",
     "text": [
      "      3  0.08  1.0e-03  -6.6e+01      98.9   -4.3e+01      98.0   0.634   0.238\n"
     ]
    },
    {
     "name": "stdout",
     "output_type": "stream",
     "text": [
      "      4  0.10  1.0e-03  -9.3e+01      99.0   -7.1e+01      98.2   0.635   0.242\n"
     ]
    },
    {
     "name": "stdout",
     "output_type": "stream",
     "text": [
      "      5  0.12  1.0e-03  -1.2e+02      99.0   -1.0e+02      98.3   0.675   0.275\n"
     ]
    },
    {
     "name": "stdout",
     "output_type": "stream",
     "text": [
      "      6  0.14  1.0e-03  -1.5e+02      99.0   -1.2e+02      98.2   0.708   0.290\n"
     ]
    },
    {
     "name": "stdout",
     "output_type": "stream",
     "text": [
      "      7  0.16  1.0e-03  -1.7e+02      99.1   -1.5e+02      98.1   0.755   0.340\n"
     ]
    },
    {
     "name": "stdout",
     "output_type": "stream",
     "text": [
      "      8  0.18  1.0e-03  -2.0e+02      99.1   -1.8e+02      98.2   0.740   0.365\n"
     ]
    },
    {
     "name": "stdout",
     "output_type": "stream",
     "text": [
      "      9  0.20  1.0e-03  -2.3e+02      99.2   -2.1e+02      98.4   0.777   0.388\n"
     ]
    },
    {
     "name": "stdout",
     "output_type": "stream",
     "text": [
      "     10  0.22  1.0e-03  -2.6e+02      99.2   -2.4e+02      98.3   0.778   0.405\n"
     ]
    },
    {
     "name": "stdout",
     "output_type": "stream",
     "text": [
      "     11  0.24  1.0e-03  -2.9e+02      99.2   -2.6e+02      98.3   0.811   0.433\n"
     ]
    },
    {
     "name": "stdout",
     "output_type": "stream",
     "text": [
      "     12  0.26  1.0e-03  -3.1e+02      99.2   -2.9e+02      98.3   0.772   0.395\n"
     ]
    },
    {
     "name": "stdout",
     "output_type": "stream",
     "text": [
      "     13  0.28  1.0e-03  -3.4e+02      99.2   -3.2e+02      98.3   0.801   0.427\n"
     ]
    },
    {
     "name": "stdout",
     "output_type": "stream",
     "text": [
      "     14  0.30  1.0e-03  -3.7e+02      99.2   -3.5e+02      98.2   0.788   0.410\n"
     ]
    },
    {
     "name": "stdout",
     "output_type": "stream",
     "text": [
      "     15  0.32  1.0e-03  -4.0e+02      99.2   -3.8e+02      98.2   0.840   0.451\n"
     ]
    },
    {
     "name": "stdout",
     "output_type": "stream",
     "text": [
      "     16  0.34  1.0e-03  -4.3e+02      99.2   -4.1e+02      98.3   0.825   0.469\n"
     ]
    },
    {
     "name": "stdout",
     "output_type": "stream",
     "text": [
      "     17  0.36  1.0e-03  -4.6e+02      99.2   -4.4e+02      98.2   0.836   0.474\n"
     ]
    },
    {
     "name": "stdout",
     "output_type": "stream",
     "text": [
      "     18  0.38  1.0e-03  -4.9e+02      99.2   -4.6e+02      98.0   0.849   0.498\n"
     ]
    },
    {
     "name": "stdout",
     "output_type": "stream",
     "text": [
      "     19  0.40  1.0e-03  -5.2e+02      99.2   -4.9e+02      98.1   0.808   0.435\n"
     ]
    },
    {
     "name": "stdout",
     "output_type": "stream",
     "text": [
      "     20  0.42  1.0e-03  -5.5e+02      99.1   -5.3e+02      98.2   0.852   0.506\n"
     ]
    },
    {
     "name": "stdout",
     "output_type": "stream",
     "text": [
      "     21  0.44  1.0e-03  -5.8e+02      99.1   -5.5e+02      98.0   0.825   0.478\n"
     ]
    },
    {
     "name": "stdout",
     "output_type": "stream",
     "text": [
      "     22  0.46  1.0e-03  -6.1e+02      99.2   -5.8e+02      98.2   0.839   0.512\n"
     ]
    },
    {
     "name": "stdout",
     "output_type": "stream",
     "text": [
      "     23  0.48  1.0e-03  -6.4e+02      99.2   -6.2e+02      98.2   0.890   0.556\n"
     ]
    },
    {
     "name": "stdout",
     "output_type": "stream",
     "text": [
      "     24  0.50  1.0e-03  -6.7e+02      99.1   -6.4e+02      98.0   0.834   0.447\n"
     ]
    },
    {
     "name": "stdout",
     "output_type": "stream",
     "text": [
      "     25  0.52  1.0e-03  -7.0e+02      99.1   -6.7e+02      98.1   0.869   0.491\n"
     ]
    },
    {
     "name": "stdout",
     "output_type": "stream",
     "text": [
      "     26  0.54  1.0e-03  -7.3e+02      99.1   -7.0e+02      98.3   0.842   0.496\n"
     ]
    },
    {
     "name": "stdout",
     "output_type": "stream",
     "text": [
      "     27  0.56  1.0e-03  -7.6e+02      99.0   -7.4e+02      98.4   0.853   0.503\n"
     ]
    },
    {
     "name": "stdout",
     "output_type": "stream",
     "text": [
      "     28  0.58  1.0e-03  -7.9e+02      99.1   -7.7e+02      98.2   0.914   0.576\n"
     ]
    },
    {
     "name": "stdout",
     "output_type": "stream",
     "text": [
      "     29  0.60  1.0e-03  -8.2e+02      99.0   -7.9e+02      98.0   0.873   0.513\n"
     ]
    },
    {
     "name": "stdout",
     "output_type": "stream",
     "text": [
      "     30  0.62  1.0e-03  -8.5e+02      99.0   -8.3e+02      98.3   0.884   0.530\n"
     ]
    },
    {
     "name": "stdout",
     "output_type": "stream",
     "text": [
      "     31  0.64  1.0e-03  -8.8e+02      99.0   -8.5e+02      98.2   0.884   0.541\n"
     ]
    },
    {
     "name": "stdout",
     "output_type": "stream",
     "text": [
      "     32  0.66  1.0e-03  -9.1e+02      99.0   -8.9e+02      98.3   0.893   0.561\n"
     ]
    },
    {
     "name": "stdout",
     "output_type": "stream",
     "text": [
      "     33  0.68  1.0e-03  -9.3e+02      98.9   -9.1e+02      98.3   0.863   0.517\n"
     ]
    },
    {
     "name": "stdout",
     "output_type": "stream",
     "text": [
      "     34  0.70  1.0e-03  -9.7e+02      99.0   -9.5e+02      98.2   0.903   0.571\n"
     ]
    },
    {
     "name": "stdout",
     "output_type": "stream",
     "text": [
      "     35  0.72  1.0e-03  -9.9e+02      98.8   -9.7e+02      98.2   0.875   0.533\n"
     ]
    },
    {
     "name": "stdout",
     "output_type": "stream",
     "text": [
      "     36  0.74  1.0e-03  -1.0e+03      98.8   -1.0e+03      98.1   0.890   0.526\n"
     ]
    },
    {
     "name": "stdout",
     "output_type": "stream",
     "text": [
      "     37  0.76  1.0e-03  -1.1e+03      98.9   -1.0e+03      98.2   0.880   0.532\n"
     ]
    },
    {
     "name": "stdout",
     "output_type": "stream",
     "text": [
      "     38  0.78  1.0e-03  -1.1e+03      98.8   -1.1e+03      98.2   0.902   0.562\n"
     ]
    },
    {
     "name": "stdout",
     "output_type": "stream",
     "text": [
      "     39  0.80  1.0e-03  -1.1e+03      98.9   -1.1e+03      98.1   0.883   0.557\n"
     ]
    },
    {
     "name": "stdout",
     "output_type": "stream",
     "text": [
      "     40  0.82  2.0e-04  -1.1e+03      98.7   -1.1e+03      98.3   0.906   0.562\n"
     ]
    },
    {
     "name": "stdout",
     "output_type": "stream",
     "text": [
      "     41  0.84  2.0e-04  -1.2e+03      99.2   -1.2e+03      98.4   0.978   0.734\n"
     ]
    },
    {
     "name": "stdout",
     "output_type": "stream",
     "text": [
      "     42  0.86  2.0e-04  -1.2e+03      99.2   -1.2e+03      98.4   0.979   0.733\n"
     ]
    },
    {
     "name": "stdout",
     "output_type": "stream",
     "text": [
      "     43  0.88  2.0e-04  -1.3e+03      99.2   -1.2e+03      98.5   0.978   0.735\n"
     ]
    },
    {
     "name": "stdout",
     "output_type": "stream",
     "text": [
      "     44  0.90  2.0e-04  -1.3e+03      99.2   -1.3e+03      98.4   0.979   0.727\n"
     ]
    },
    {
     "name": "stdout",
     "output_type": "stream",
     "text": [
      "     45  0.92  2.0e-04  -1.3e+03      99.2   -1.3e+03      98.4   0.979   0.738\n"
     ]
    },
    {
     "name": "stdout",
     "output_type": "stream",
     "text": [
      "     46  0.94  2.0e-04  -1.3e+03      99.1   -1.3e+03      98.4   0.979   0.737\n"
     ]
    },
    {
     "name": "stdout",
     "output_type": "stream",
     "text": [
      "     47  0.96  2.0e-04  -1.4e+03      99.2   -1.4e+03      98.4   0.979   0.747\n"
     ]
    },
    {
     "name": "stdout",
     "output_type": "stream",
     "text": [
      "     48  0.98  2.0e-04  -1.4e+03      99.1   -1.4e+03      98.4   0.979   0.746\n"
     ]
    },
    {
     "name": "stdout",
     "output_type": "stream",
     "text": [
      "     49     1  2.0e-04  -1.4e+03      99.1   -1.4e+03      98.5   0.979   0.739\n"
     ]
    },
    {
     "name": "stdout",
     "output_type": "stream",
     "text": [
      "     50     1  4.0e-05  -1.4e+03      99.2   -1.4e+03      98.4   0.980   0.744\n"
     ]
    },
    {
     "name": "stdout",
     "output_type": "stream",
     "text": [
      "     51     1  4.0e-05  -1.4e+03      99.3   -1.4e+03      98.4   0.984   0.766\n"
     ]
    },
    {
     "name": "stdout",
     "output_type": "stream",
     "text": [
      "     52     1  4.0e-05  -1.4e+03      99.2   -1.4e+03      98.4   0.984   0.768\n"
     ]
    },
    {
     "name": "stdout",
     "output_type": "stream",
     "text": [
      "     53     1  4.0e-05  -1.4e+03      99.2   -1.4e+03      98.4   0.984   0.769\n"
     ]
    },
    {
     "name": "stdout",
     "output_type": "stream",
     "text": [
      "     54     1  4.0e-05  -1.4e+03      99.2   -1.4e+03      98.4   0.984   0.768\n"
     ]
    },
    {
     "name": "stdout",
     "output_type": "stream",
     "text": [
      "     55     1  4.0e-05  -1.4e+03      99.2   -1.4e+03      98.4   0.984   0.770\n"
     ]
    },
    {
     "name": "stdout",
     "output_type": "stream",
     "text": [
      "     56     1  4.0e-05  -1.4e+03      99.2   -1.4e+03      98.4   0.984   0.771\n"
     ]
    },
    {
     "name": "stdout",
     "output_type": "stream",
     "text": [
      "     57     1  4.0e-05  -1.4e+03      99.2   -1.4e+03      98.4   0.984   0.771\n"
     ]
    },
    {
     "name": "stdout",
     "output_type": "stream",
     "text": [
      "     58     1  4.0e-05  -1.4e+03      99.2   -1.4e+03      98.4   0.984   0.771\n"
     ]
    },
    {
     "name": "stdout",
     "output_type": "stream",
     "text": [
      "     59     1  4.0e-05  -1.4e+03      99.2   -1.4e+03      98.4   0.984   0.770\n"
     ]
    },
    {
     "name": "stdout",
     "output_type": "stream",
     "text": [
      "     60     1  8.0e-06  -1.4e+03      99.2   -1.4e+03      98.4   0.984   0.770\n"
     ]
    },
    {
     "name": "stdout",
     "output_type": "stream",
     "text": [
      "     61     1  8.0e-06  -1.4e+03      99.3   -1.4e+03      98.4   0.984   0.771\n"
     ]
    },
    {
     "name": "stdout",
     "output_type": "stream",
     "text": [
      "     62     1  8.0e-06  -1.4e+03      99.3   -1.4e+03      98.4   0.984   0.771\n"
     ]
    },
    {
     "name": "stdout",
     "output_type": "stream",
     "text": [
      "     63     1  8.0e-06  -1.4e+03      99.2   -1.4e+03      98.4   0.984   0.772\n"
     ]
    },
    {
     "name": "stdout",
     "output_type": "stream",
     "text": [
      "     64     1  8.0e-06  -1.4e+03      99.2   -1.4e+03      98.4   0.984   0.771\n"
     ]
    },
    {
     "name": "stdout",
     "output_type": "stream",
     "text": [
      "     65     1  8.0e-06  -1.4e+03      99.3   -1.4e+03      98.4   0.984   0.771\n"
     ]
    },
    {
     "name": "stdout",
     "output_type": "stream",
     "text": [
      "     66     1  8.0e-06  -1.4e+03      99.3   -1.4e+03      98.4   0.984   0.772\n"
     ]
    },
    {
     "name": "stdout",
     "output_type": "stream",
     "text": [
      "     67     1  8.0e-06  -1.4e+03      99.2   -1.4e+03      98.4   0.985   0.772\n"
     ]
    },
    {
     "name": "stdout",
     "output_type": "stream",
     "text": [
      "     68     1  8.0e-06  -1.4e+03      99.2   -1.4e+03      98.4   0.984   0.772\n"
     ]
    },
    {
     "name": "stdout",
     "output_type": "stream",
     "text": [
      "     69     1  8.0e-06  -1.4e+03      99.2   -1.4e+03      98.4   0.984   0.772\n"
     ]
    },
    {
     "name": "stdout",
     "output_type": "stream",
     "text": [
      "     70     1  1.6e-06  -1.4e+03      99.3   -1.4e+03      98.4   0.985   0.773\n"
     ]
    },
    {
     "name": "stdout",
     "output_type": "stream",
     "text": [
      "     71     1  1.6e-06  -1.4e+03      99.3   -1.4e+03      98.4   0.985   0.773\n"
     ]
    },
    {
     "name": "stdout",
     "output_type": "stream",
     "text": [
      "     72     1  1.6e-06  -1.4e+03      99.3   -1.4e+03      98.4   0.985   0.773\n"
     ]
    },
    {
     "name": "stdout",
     "output_type": "stream",
     "text": [
      "     73     1  1.6e-06  -1.4e+03      99.3   -1.4e+03      98.4   0.985   0.773\n"
     ]
    },
    {
     "name": "stdout",
     "output_type": "stream",
     "text": [
      "     74     1  1.6e-06  -1.4e+03      99.3   -1.4e+03      98.4   0.985   0.773\n"
     ]
    },
    {
     "name": "stdout",
     "output_type": "stream",
     "text": [
      "     75     1  1.6e-06  -1.4e+03      99.3   -1.4e+03      98.4   0.985   0.773\n"
     ]
    },
    {
     "name": "stdout",
     "output_type": "stream",
     "text": [
      "     76     1  1.6e-06  -1.4e+03      99.2   -1.4e+03      98.4   0.985   0.773\n"
     ]
    },
    {
     "name": "stdout",
     "output_type": "stream",
     "text": [
      "     77     1  1.6e-06  -1.4e+03      99.3   -1.4e+03      98.4   0.985   0.773\n"
     ]
    },
    {
     "name": "stdout",
     "output_type": "stream",
     "text": [
      "     78     1  1.6e-06  -1.4e+03      99.3   -1.4e+03      98.4   0.985   0.773\n"
     ]
    },
    {
     "name": "stdout",
     "output_type": "stream",
     "text": [
      "     79     1  1.6e-06  -1.4e+03      99.3   -1.4e+03      98.4   0.985   0.773\n"
     ]
    },
    {
     "name": "stdout",
     "output_type": "stream",
     "text": [
      "     80     1  1.6e-06  -1.4e+03      99.3   -1.4e+03      98.4   0.985   0.773\n"
     ]
    },
    {
     "name": "stdout",
     "output_type": "stream",
     "text": [
      "     81     1  1.6e-06  -1.4e+03      99.3   -1.4e+03      98.4   0.985   0.773\n"
     ]
    },
    {
     "name": "stdout",
     "output_type": "stream",
     "text": [
      "     82     1  1.6e-06  -1.4e+03      99.3   -1.4e+03      98.4   0.985   0.773\n"
     ]
    },
    {
     "name": "stdout",
     "output_type": "stream",
     "text": [
      "     83     1  1.6e-06  -1.4e+03      99.2   -1.4e+03      98.4   0.985   0.773\n"
     ]
    },
    {
     "name": "stdout",
     "output_type": "stream",
     "text": [
      "     84     1  1.6e-06  -1.4e+03      99.2   -1.4e+03      98.4   0.985   0.773\n"
     ]
    },
    {
     "name": "stdout",
     "output_type": "stream",
     "text": [
      "     85     1  1.6e-06  -1.4e+03      99.2   -1.4e+03      98.4   0.985   0.773\n"
     ]
    },
    {
     "name": "stdout",
     "output_type": "stream",
     "text": [
      "     86     1  1.6e-06  -1.4e+03      99.3   -1.4e+03      98.4   0.985   0.773\n"
     ]
    },
    {
     "name": "stdout",
     "output_type": "stream",
     "text": [
      "     87     1  1.6e-06  -1.4e+03      99.2   -1.4e+03      98.4   0.985   0.773\n"
     ]
    },
    {
     "name": "stdout",
     "output_type": "stream",
     "text": [
      "     88     1  1.6e-06  -1.4e+03      99.3   -1.4e+03      98.4   0.985   0.773\n"
     ]
    },
    {
     "name": "stdout",
     "output_type": "stream",
     "text": [
      "     89     1  1.6e-06  -1.4e+03      99.3   -1.4e+03      98.4   0.985   0.773\n"
     ]
    },
    {
     "name": "stdout",
     "output_type": "stream",
     "text": [
      "     90     1  1.6e-06  -1.4e+03      99.3   -1.4e+03      98.4   0.985   0.773\n"
     ]
    },
    {
     "name": "stdout",
     "output_type": "stream",
     "text": [
      "     91     1  1.6e-06  -1.4e+03      99.3   -1.4e+03      98.4   0.985   0.773\n"
     ]
    },
    {
     "name": "stdout",
     "output_type": "stream",
     "text": [
      "     92     1  1.6e-06  -1.4e+03      99.2   -1.4e+03      98.4   0.985   0.773\n"
     ]
    },
    {
     "name": "stdout",
     "output_type": "stream",
     "text": [
      "     93     1  1.6e-06  -1.4e+03      99.2   -1.4e+03      98.4   0.985   0.773\n"
     ]
    },
    {
     "name": "stdout",
     "output_type": "stream",
     "text": [
      "     94     1  1.6e-06  -1.4e+03      99.3   -1.4e+03      98.4   0.985   0.773\n"
     ]
    },
    {
     "name": "stdout",
     "output_type": "stream",
     "text": [
      "     95     1  1.6e-06  -1.4e+03      99.2   -1.4e+03      98.4   0.985   0.773\n"
     ]
    },
    {
     "name": "stdout",
     "output_type": "stream",
     "text": [
      "     96     1  1.6e-06  -1.4e+03      99.3   -1.4e+03      98.4   0.985   0.773\n"
     ]
    },
    {
     "name": "stdout",
     "output_type": "stream",
     "text": [
      "     97     1  1.6e-06  -1.4e+03      99.3   -1.4e+03      98.4   0.985   0.773\n"
     ]
    },
    {
     "name": "stdout",
     "output_type": "stream",
     "text": [
      "     98     1  1.6e-06  -1.4e+03      99.3   -1.4e+03      98.4   0.985   0.773\n"
     ]
    },
    {
     "name": "stdout",
     "output_type": "stream",
     "text": [
      "     99     1  1.6e-06  -1.4e+03      99.3   -1.4e+03      98.4   0.985   0.773\n"
     ]
    },
    {
     "name": "stdout",
     "output_type": "stream",
     "text": [
      "    100     1  1.6e-06  -1.4e+03      99.2   -1.4e+03      98.4   0.985   0.773\n"
     ]
    }
   ],
   "source": [
    "train(train_loader, test_loader, model, elboloss, logger, device,\n",
    "    optimizer, scheduler=scheduler, epochs=100, sparse=True)"
   ]
  },
  {
   "cell_type": "markdown",
   "metadata": {
    "collapsed": false
   },
   "source": [
    "Compute compression rate:"
   ]
  },
  {
   "cell_type": "code",
   "execution_count": 37,
   "metadata": {
    "colab": {
    },
    "colab_type": "code",
    "collapsed": false,
    "id": "UQVizuLov8Hu"
   },
   "outputs": [
    {
     "name": "stdout",
     "output_type": "stream",
     "text": [
      "kept weight ratio = 55.27964724994198\n"
     ]
    }
   ],
   "source": [
    "all_w, kep_w = 0, 0\n",
    "\n",
    "for c in model.children():\n",
    "    kep_w += (c.log_alpha.data.cpu().numpy() < model.threshold).sum()\n",
    "    all_w += c.log_alpha.data.cpu().numpy().size\n",
    "\n",
    "print('kept weight ratio =', all_w/kep_w)"
   ]
  },
  {
   "cell_type": "markdown",
   "metadata": {
    "colab_type": "text",
    "collapsed": false,
    "id": "FNMUWDjtJgd-"
   },
   "source": [
    "    # Good result should be like \n",
    "    #   epoch    kl       lr    tr_los    tr_acc    te_loss    te_acc    sp_0    sp_1\n",
    "    #  -------  ----  -------  --------  --------  ---------  --------  ------  ------\n",
    "    #       XX     1  1.6e-06  -1.4e+03      99.0   -1.4e+03      98.2   0.817   0.792\n",
    "    # kept weight ratio = 5.46204998853474"
   ]
  },
  {
   "cell_type": "code",
   "execution_count": 0,
   "metadata": {
    "collapsed": false,
    "deletable": false,
    "editable": false,
    "nbgrader": {
     "grade": true,
     "grade_id": "test",
     "locked": true,
     "points": 3,
     "schema_version": 3,
     "solution": false,
     "task": false
    }
   },
   "outputs": [
   ],
   "source": [
   ]
  },
  {
   "cell_type": "markdown",
   "metadata": {
    "collapsed": false
   },
   "source": [
    "## Visualization"
   ]
  },
  {
   "cell_type": "markdown",
   "metadata": {
    "collapsed": false
   },
   "source": [
    "Visualize part of the sparsified weight matrix:"
   ]
  },
  {
   "cell_type": "code",
   "execution_count": 38,
   "metadata": {
    "collapsed": false
   },
   "outputs": [
    {
     "data": {
      "text/plain": [
       "Text(0.5, 1.0, 'Part of the weight matrix of the 1st layer')"
      ]
     },
     "execution_count": 38,
     "metadata": {
     },
     "output_type": "execute_result"
    },
    {
     "data": {
      "image/png": "[encoded data removed]",
      "text/plain": [
       "<Figure size 1440x720 with 2 Axes>"
      ]
     },
     "execution_count": 38,
     "metadata": {
     },
     "output_type": "execute_result"
    }
   ],
   "source": [
    "import matplotlib.pyplot as plt\n",
    "%matplotlib inline\n",
    "\n",
    "# mask zero weights\n",
    "log_alpha = (model.fc1.log_alpha.detach().cpu().numpy() < 3).astype(np.float)\n",
    "W = model.fc1.mu.detach().cpu().numpy()\n",
    "\n",
    "# visualize part of the matrix\n",
    "plt.figure(figsize=(20, 10))\n",
    "plt.imshow((log_alpha * W)[:, 200:400], cmap='RdBu_r', interpolation=None)\n",
    "plt.colorbar()\n",
    "plt.title(\"Part of the weight matrix of the 1st layer\")"
   ]
  },
  {
   "cell_type": "markdown",
   "metadata": {
    "collapsed": false
   },
   "source": [
    "Visualize sparsified weights reshaped to the image shape:"
   ]
  },
  {
   "cell_type": "code",
   "execution_count": 39,
   "metadata": {
    "collapsed": false
   },
   "outputs": [
    {
     "data": {
      "text/plain": [
       "Text(0.5, 1.0, 'Weights reshaped to the image shape')"
      ]
     },
     "execution_count": 39,
     "metadata": {
     },
     "output_type": "execute_result"
    },
    {
     "data": {
      "image/png": "[encoded data removed]",
      "text/plain": [
       "<Figure size 1440x720 with 2 Axes>"
      ]
     },
     "execution_count": 39,
     "metadata": {
     },
     "output_type": "execute_result"
    }
   ],
   "source": [
    "s = 0\n",
    "\n",
    "z = np.zeros((28*10, 28*10))\n",
    "\n",
    "for i in range(10):\n",
    "    for j in range(10):\n",
    "        s += 1\n",
    "        z[i*28:(i+1)*28, j*28:(j+1)*28] =  np.abs((log_alpha * W)[s].reshape(28, 28))\n",
    "\n",
    "z[::28] = 2\n",
    "z[:, ::28] = 2\n",
    "z[-1] = 2\n",
    "z[:, -1] = 2\n",
    "\n",
    "plt.figure(figsize=(20, 10))\n",
    "plt.imshow(z, cmap='hot_r')\n",
    "plt.colorbar()\n",
    "plt.axis('off')\n",
    "plt.title(\"Weights reshaped to the image shape\")"
   ]
  },
  {
   "cell_type": "markdown",
   "metadata": {
    "collapsed": false
   },
   "source": [
    "Visualize $\\log |\\mu|$ and $\\log \\sigma$ of the weights:"
   ]
  },
  {
   "cell_type": "code",
   "execution_count": 40,
   "metadata": {
    "collapsed": false
   },
   "outputs": [
    {
     "data": {
      "text/plain": [
       "[<matplotlib.lines.Line2D at 0x7fb29606e7b8>]"
      ]
     },
     "execution_count": 40,
     "metadata": {
     },
     "output_type": "execute_result"
    },
    {
     "data": {
      "image/png": "[encoded data removed]",
      "text/plain": [
       "<Figure size 432x288 with 1 Axes>"
      ]
     },
     "execution_count": 40,
     "metadata": {
     },
     "output_type": "execute_result"
    }
   ],
   "source": [
    "plt.scatter(np.log(np.abs(model.fc1.mu.data.cpu().numpy()))[100:200, 100:200].ravel(),\\\n",
    "            model.fc1.log_sigma.data.cpu().numpy()[100:200, 100:200].ravel(),\\\n",
    "           alpha=0.5)\n",
    "plt.xlabel(\"$\\log \\,|\\mu|$\", fontsize=20)\n",
    "plt.ylabel(\"$\\log \\,\\sigma$\", fontsize=20)\n",
    "\n",
    "ms = np.linspace(-7, -0.5, 100)\n",
    "plt.plot(ms, ms+1.5, color=\"black\")"
   ]
  },
  {
   "cell_type": "markdown",
   "metadata": {
    "collapsed": false
   },
   "source": [
    "## Compression with Sparse Matrixes"
   ]
  },
  {
   "cell_type": "markdown",
   "metadata": {
    "collapsed": false
   },
   "source": [
    "Let's check how efficient is weight compression using sparse matrix formats:"
   ]
  },
  {
   "cell_type": "code",
   "execution_count": 41,
   "metadata": {
    "colab": {
    },
    "colab_type": "code",
    "collapsed": false,
    "id": "3wnL7Hp9v8Hy"
   },
   "outputs": [
   ],
   "source": [
    "import scipy\n",
    "import numpy as np\n",
    "from scipy.sparse import csc_matrix, csc_matrix, coo_matrix, dok_matrix\n",
    "\n",
    "row, col, data = [], [], []\n",
    "M = list(model.children())[0].mu.data.cpu().numpy()\n",
    "LA = list(model.children())[0].log_alpha.data.cpu().numpy()\n",
    "\n",
    "for i in range(300):\n",
    "    for j in range(28*28):\n",
    "        if LA[i, j] < 3:\n",
    "            row += [i]\n",
    "            col += [j]\n",
    "            data += [M[i, j]]\n",
    "\n",
    "Mcsr = csc_matrix((data, (row, col)), shape=(300, 28*28))\n",
    "Mcsc = csc_matrix((data, (row, col)), shape=(300, 28*28))\n",
    "Mcoo = coo_matrix((data, (row, col)), shape=(300, 28*28))"
   ]
  },
  {
   "cell_type": "code",
   "execution_count": 42,
   "metadata": {
    "colab": {
    },
    "colab_type": "code",
    "collapsed": false,
    "id": "e4T8E4Miv8H0"
   },
   "outputs": [
   ],
   "source": [
    "np.savez_compressed('M_w', M)\n",
    "scipy.sparse.save_npz('Mcsr_w', Mcsr)\n",
    "scipy.sparse.save_npz('Mcsc_w', Mcsc)\n",
    "scipy.sparse.save_npz('Mcoo_w', Mcoo)"
   ]
  },
  {
   "cell_type": "code",
   "execution_count": 43,
   "metadata": {
    "colab": {
    },
    "colab_type": "code",
    "collapsed": false,
    "id": "QebP7_Emv8H2"
   },
   "outputs": [
    {
     "name": "stdout",
     "output_type": "stream",
     "text": [
      "-rw-r--r-- 1 user user 858K Jul 22 14:14 M_w.npz\r\n",
      "-rw-r--r-- 1 user user  20K Jul 22 14:14 Mcoo_w.npz\r\n",
      "-rw-r--r-- 1 user user  20K Jul 22 14:14 Mcsc_w.npz\r\n",
      "-rw-r--r-- 1 user user  20K Jul 22 14:14 Mcsr_w.npz\r\n"
     ]
    }
   ],
   "source": [
    "ls -lah | grep npz"
   ]
  },
  {
   "cell_type": "code",
   "execution_count": 0,
   "metadata": {
    "collapsed": false
   },
   "outputs": [
   ],
   "source": [
   ]
  }
 ],
 "metadata": {
  "celltoolbar": "Create Assignment",
  "colab": {
   "collapsed_sections": [
   ],
   "name": "Sparse-Variational-Dropout.ipynb",
   "provenance": [
   ],
   "version": "0.3.2"
  },
  "kernelspec": {
   "display_name": "Python 3",
   "language": "python",
   "name": "python3"
  },
  "language_info": {
   "codemirror_mode": {
    "name": "ipython",
    "version": 3
   },
   "file_extension": ".py",
   "mimetype": "text/x-python",
   "name": "python",
   "nbconvert_exporter": "python",
   "pygments_lexer": "ipython3",
   "version": "3.6.9"
  }
 },
 "nbformat": 4,
 "nbformat_minor": 4
}