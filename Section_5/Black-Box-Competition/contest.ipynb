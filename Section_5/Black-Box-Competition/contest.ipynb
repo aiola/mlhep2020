{
 "cells": [
  {
   "cell_type": "code",
   "execution_count": 1,
   "metadata": {
    "collapsed": false
   },
   "outputs": [
    {
     "name": "stdout",
     "output_type": "stream",
     "text": [
      "initializing ocelot...\n"
     ]
    }
   ],
   "source": [
    "import numpy as np\n",
    "from tqdm.notebook import tqdm\n",
    "\n",
    "import matplotlib.pyplot as plt\n",
    "\n",
    "import ocelot\n",
    "from fel import SASE, random_beam, random_geometry, N_ELEMENTS\n",
    "\n",
    "hidden_rng = np.random.RandomState(1111)"
   ]
  },
  {
   "cell_type": "code",
   "execution_count": 2,
   "metadata": {
    "collapsed": false
   },
   "outputs": [
   ],
   "source": [
    "class Optimiser(object):\n",
    "    def __init__(self, x0):\n",
    "        \"\"\"\n",
    "        Optimizer should accept initial configuration x0\n",
    "        \"\"\"\n",
    "        pass\n",
    "\n",
    "    def reset(self, ):\n",
    "        \"\"\"\n",
    "        Auxilary method --- resets internal state of the optimiser.\n",
    "        \"\"\"\n",
    "        raise NotImplementedError()\n",
    "        \n",
    "    def ask(self,):\n",
    "        \"\"\"\n",
    "        Returns next configuration to probe.\n",
    "\n",
    "        \"\"\"\n",
    "        raise NotImplementedError()\n",
    "    \n",
    "    def tell(self, x, f):\n",
    "        \"\"\"\n",
    "        Callback method:\n",
    "        `x` - configuration returned by `ask()` method (possibly clipped to satisfy bounds),\n",
    "        `f` - value of the objective function in the point `x`.\n",
    "        \"\"\"\n",
    "        raise NotImplementedError()"
   ]
  },
  {
   "cell_type": "code",
   "execution_count": 3,
   "metadata": {
    "collapsed": false
   },
   "outputs": [
   ],
   "source": [
    "class Optimiser(object):\n",
    "  def __init__(self, x0, scale=1e-2, seed=1122):\n",
    "    self.x0 = x0\n",
    "    self.rng = np.random.RandomState(seed=seed)\n",
    "\n",
    "    self.x = x0\n",
    "    self.f = None\n",
    "\n",
    "    self.scale = scale\n",
    "\n",
    "  def ask(self, ):\n",
    "    return self.x + self.rng.normal(size=self.x.shape, scale=self.scale)\n",
    "\n",
    "  def tell(self, x, f):\n",
    "    if self.f is None:\n",
    "      self.f = f\n",
    "      self.x = x\n",
    "\n",
    "    elif self.f < f:\n",
    "      pass\n",
    "\n",
    "    else:\n",
    "      self.f = f\n",
    "      self.x = x\n",
    "\n",
    "  def reset(self, ):\n",
    "    self.x = self.x0\n",
    "    self.f = None"
   ]
  },
  {
   "cell_type": "code",
   "execution_count": 4,
   "metadata": {
    "collapsed": false
   },
   "outputs": [
   ],
   "source": [
    "### constructing FEL\n",
    "sase = SASE(random_beam(hidden_rng), random_geometry(hidden_rng))\n",
    "epsilon = 1e-12\n",
    "\n",
    "objective = lambda x: np.log(1e-3) - np.log(sase.rho_int(x) + epsilon)\n",
    "\n",
    "bounds = np.stack([\n",
    "    -2 * np.ones(sase.ndim()),\n",
    "    2 * np.ones(sase.ndim())\n",
    "], axis=1)\n",
    "\n",
    "x0 = np.zeros(sase.ndim())"
   ]
  },
  {
   "cell_type": "code",
   "execution_count": 5,
   "metadata": {
    "collapsed": false
   },
   "outputs": [
    {
     "name": "stdout",
     "output_type": "stream",
     "text": [
      "1 loop, best of 3: 1.63 s per loop\n"
     ]
    }
   ],
   "source": [
    "%%timeit\n",
    "objective(np.random.uniform(-1, 1, size=sase.ndim()))"
   ]
  },
  {
   "cell_type": "code",
   "execution_count": 6,
   "metadata": {
    "collapsed": false
   },
   "outputs": [
   ],
   "source": [
    "from fel import eval_optimization"
   ]
  },
  {
   "cell_type": "code",
   "execution_count": 7,
   "metadata": {
    "collapsed": false
   },
   "outputs": [
    {
     "data": {
      "application/vnd.jupyter.widget-view+json": {
       "model_id": "84f870da6c2c4c52a6da24005ea004df",
       "version_major": 2,
       "version_minor": 0
      },
      "text/plain": [
       "HBox(children=(FloatProgress(value=0.0, max=128.0), HTML(value='')))"
      ]
     },
     "execution_count": 7,
     "metadata": {
     },
     "output_type": "execute_result"
    },
    {
     "name": "stdout",
     "output_type": "stream",
     "text": [
      "\n"
     ]
    }
   ],
   "source": [
    "xs, fs = eval_optimization(Optimiser, objective, x0=np.zeros(10), bounds=bounds, progress=tqdm)"
   ]
  },
  {
   "cell_type": "code",
   "execution_count": 8,
   "metadata": {
    "collapsed": false
   },
   "outputs": [
   ],
   "source": [
    "def cummin(fs):\n",
    "    result = np.zeros_like(fs)\n",
    "    \n",
    "    result[0] = fs[0]\n",
    "    \n",
    "    for i in range(1, fs.shape[0]):\n",
    "        if result[i - 1] < fs[i]:\n",
    "            result[i] = result[i - 1]\n",
    "        else:\n",
    "            result[i] = fs[i]\n",
    "    \n",
    "    return result"
   ]
  },
  {
   "cell_type": "code",
   "execution_count": 9,
   "metadata": {
    "collapsed": false
   },
   "outputs": [
    {
     "data": {
      "text/plain": [
       "Text(0.5, 0, 'iteration')"
      ]
     },
     "execution_count": 9,
     "metadata": {
     },
     "output_type": "execute_result"
    },
    {
     "data": {
      "image/png": "[encoded data removed]",
      "text/plain": [
       "<Figure size 432x288 with 1 Axes>"
      ]
     },
     "execution_count": 9,
     "metadata": {
     },
     "output_type": "execute_result"
    }
   ],
   "source": [
    "plt.plot(cummin(fs))\n",
    "plt.scatter(np.arange(fs.shape[0]), fs, alpha=0.25)\n",
    "plt.xlabel('iteration')"
   ]
  },
  {
   "cell_type": "code",
   "execution_count": 0,
   "metadata": {
    "collapsed": false
   },
   "outputs": [
   ],
   "source": [
   ]
  }
 ],
 "metadata": {
  "kernelspec": {
   "display_name": "Python 3",
   "language": "python",
   "name": "python3"
  },
  "language_info": {
   "codemirror_mode": {
    "name": "ipython",
    "version": 3
   },
   "file_extension": ".py",
   "mimetype": "text/x-python",
   "name": "python",
   "nbconvert_exporter": "python",
   "pygments_lexer": "ipython3",
   "version": "3.6.9"
  }
 },
 "nbformat": 4,
 "nbformat_minor": 4
}